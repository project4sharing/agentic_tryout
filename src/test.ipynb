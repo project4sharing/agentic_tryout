{
 "cells": [
  {
   "cell_type": "code",
   "execution_count": 4,
   "id": "33bcffce",
   "metadata": {},
   "outputs": [],
   "source": [
    "import os\n",
    "\n",
    "import google\n",
    "import vertexai\n",
    "from google.adk.agents import Agent\n",
    "from langchain_google_vertexai import VertexAIEmbeddings\n",
    "\n",
    "from app.retrievers import get_compressor, get_retriever\n",
    "from app.templates import format_docs"
   ]
  },
  {
   "cell_type": "code",
   "execution_count": 5,
   "id": "67c99c74",
   "metadata": {},
   "outputs": [],
   "source": [
    "EMBEDDING_MODEL = \"text-embedding-005\"\n",
    "LLM_LOCATION = \"global\"\n",
    "LOCATION = \"us-central1\"\n",
    "LLM = \"gemini-2.5-flash\""
   ]
  },
  {
   "cell_type": "code",
   "execution_count": 10,
   "id": "7dc60023",
   "metadata": {},
   "outputs": [
    {
     "data": {
      "text/plain": [
       "'True'"
      ]
     },
     "execution_count": 10,
     "metadata": {},
     "output_type": "execute_result"
    }
   ],
   "source": [
    "project_id = \"rising-medley-465023-g0\"\n",
    "\n",
    "credentials, project_id = google.auth.default()\n",
    "os.environ.setdefault(\"GOOGLE_CLOUD_PROJECT\", project_id)\n",
    "os.environ.setdefault(\"GOOGLE_CLOUD_LOCATION\", LLM_LOCATION)\n",
    "os.environ.setdefault(\"GOOGLE_GENAI_USE_VERTEXAI\", \"True\")"
   ]
  },
  {
   "cell_type": "code",
   "execution_count": 12,
   "id": "f9aa9537",
   "metadata": {},
   "outputs": [
    {
     "name": "stderr",
     "output_type": "stream",
     "text": [
      "/Users/petelam/workspace/agentic_tryout/.venv/lib/python3.12/site-packages/vertexai/_model_garden/_model_garden_models.py:278: UserWarning: This feature is deprecated as of June 24, 2025 and will be removed on June 24, 2026. For details, see https://cloud.google.com/vertex-ai/generative-ai/docs/deprecations/genai-vertexai-sdk.\n",
      "  warning_logs.show_deprecation_warning()\n"
     ]
    }
   ],
   "source": [
    "vertexai.init(project=project_id, location=LOCATION)\n",
    "embedding = VertexAIEmbeddings(\n",
    "    project=project_id, location=LOCATION, model_name=EMBEDDING_MODEL\n",
    ")"
   ]
  },
  {
   "cell_type": "code",
   "execution_count": 13,
   "id": "5521c380",
   "metadata": {},
   "outputs": [],
   "source": [
    "EMBEDDING_COLUMN = \"embedding\"\n",
    "TOP_K = 5"
   ]
  },
  {
   "cell_type": "code",
   "execution_count": 14,
   "id": "13f887f8",
   "metadata": {},
   "outputs": [],
   "source": [
    "data_store_region = os.getenv(\"DATA_STORE_REGION\", \"us\")\n",
    "data_store_id = os.getenv(\"DATA_STORE_ID\", \"{{cookiecutter.project_name}}-datastore\")\n",
    "\n",
    "data_store_id = \"datastore-dmv02_1754228795829\""
   ]
  },
  {
   "cell_type": "code",
   "execution_count": 15,
   "id": "11ce1e53",
   "metadata": {},
   "outputs": [],
   "source": [
    "retriever = get_retriever(\n",
    "    project_id=project_id,\n",
    "    data_store_id=data_store_id,\n",
    "    data_store_region=data_store_region,\n",
    "    embedding=embedding,\n",
    "    embedding_column=EMBEDDING_COLUMN,\n",
    "    max_documents=10,\n",
    ")"
   ]
  },
  {
   "cell_type": "code",
   "execution_count": 16,
   "id": "f1f2a9b4",
   "metadata": {},
   "outputs": [],
   "source": [
    "compressor = get_compressor(\n",
    "    project_id=project_id,\n",
    ")"
   ]
  },
  {
   "cell_type": "code",
   "execution_count": 17,
   "id": "99b99ac0",
   "metadata": {},
   "outputs": [],
   "source": [
    "def retrieve_docs(query: str) -> str:\n",
    "    \"\"\"\n",
    "    Useful for retrieving relevant documents based on a query.\n",
    "    Use this when you need additional information to answer a question.\n",
    "\n",
    "    Args:\n",
    "        query (str): The user's question or search query.\n",
    "\n",
    "    Returns:\n",
    "        str: Formatted string containing relevant document content retrieved and ranked based on the query.\n",
    "    \"\"\"\n",
    "    try:\n",
    "        # Use the retriever to fetch relevant documents based on the query\n",
    "        retrieved_docs = retriever.invoke(query)\n",
    "        # Re-rank docs with Vertex AI Rank for better relevance\n",
    "        ranked_docs = compressor.compress_documents(\n",
    "            documents=retrieved_docs, query=query\n",
    "        )\n",
    "        # Format ranked documents into a consistent structure for LLM consumption\n",
    "        formatted_docs = format_docs.format(docs=ranked_docs)\n",
    "    except Exception as e:\n",
    "        return f\"Calling retrieval tool with query:\\n\\n{query}\\n\\nraised the following error:\\n\\n{type(e)}: {e}\"\n",
    "\n",
    "    return formatted_docs\n",
    "\n",
    "\n",
    "instruction = \"\"\"You are an AI assistant for question-answering tasks.\n",
    "Answer to the best of your ability using the context provided.\n",
    "Leverage the Tools you are provided to answer questions.\n",
    "If you already know the answer to a question, you can respond directly without using the tools.\"\"\"\n",
    "\n",
    "root_agent = Agent(\n",
    "    name=\"root_agent\",\n",
    "    model=\"gemini-2.0-flash\",\n",
    "    instruction=instruction,\n",
    "    tools=[retrieve_docs],\n",
    ")"
   ]
  }
 ],
 "metadata": {
  "kernelspec": {
   "display_name": ".venv",
   "language": "python",
   "name": "python3"
  },
  "language_info": {
   "codemirror_mode": {
    "name": "ipython",
    "version": 3
   },
   "file_extension": ".py",
   "mimetype": "text/x-python",
   "name": "python",
   "nbconvert_exporter": "python",
   "pygments_lexer": "ipython3",
   "version": "3.12.7"
  }
 },
 "nbformat": 4,
 "nbformat_minor": 5
}
